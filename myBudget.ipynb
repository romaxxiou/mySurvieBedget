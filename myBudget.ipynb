{
 "cells": [
  {
   "cell_type": "code",
   "execution_count": 1,
   "id": "42092aa4-0dcd-4079-afcb-a5f75c93e0d7",
   "metadata": {},
   "outputs": [],
   "source": [
    "import datetime\n",
    "from dateutil import rrule"
   ]
  },
  {
   "cell_type": "code",
   "execution_count": 2,
   "id": "299cb2ca-e810-4586-b490-6ea1125f71e7",
   "metadata": {},
   "outputs": [
    {
     "name": "stdout",
     "output_type": "stream",
     "text": [
      "==============================\n",
      "今天是2023-01-04\n",
      "==============================\n"
     ]
    }
   ],
   "source": [
    "today = datetime.date.today()\n",
    "print(\"=\"*30)\n",
    "print(f'今天是{today}')\n",
    "print(\"=\"*30)"
   ]
  },
  {
   "cell_type": "code",
   "execution_count": 11,
   "id": "e361dd6f-4a05-4aeb-a8d3-4687a19a727f",
   "metadata": {},
   "outputs": [
    {
     "name": "stdin",
     "output_type": "stream",
     "text": [
      "你剩多少錢？ 4000\n"
     ]
    },
    {
     "name": "stdout",
     "output_type": "stream",
     "text": [
      "你想活到幾年幾月幾號？\n"
     ]
    },
    {
     "name": "stdin",
     "output_type": "stream",
     "text": [
      "年（西元）： 2023\n",
      "月： 1\n",
      "日： 20\n"
     ]
    },
    {
     "name": "stdout",
     "output_type": "stream",
     "text": [
      "你想活到2023-01-20 00:00:00\n",
      "還有: 17 天\n"
     ]
    }
   ],
   "source": [
    "my_money = int(input(\"你剩多少錢？\"))\n",
    "print(\"你想活到幾年幾月幾號？\")\n",
    "untilYear = int(input(\"年（西元）：\"))\n",
    "untilMonth = int(input(\"月：\"))\n",
    "untilDay = int(input(\"日：\"))\n",
    "endDay = datetime.datetime(untilYear,untilMonth,untilDay)\n",
    "print(f\"你想活到{endDay}\")\n",
    "days = rrule.rrule(freq = rrule.DAILY,dtstart=today,until=endDay)\n",
    "remain_day = int(days.count())\n",
    "print('還有:',remain_day,'天')\n"
   ]
  },
  {
   "cell_type": "code",
   "execution_count": 12,
   "id": "63d2be79-db86-4088-b2f1-ac20fe4609e4",
   "metadata": {},
   "outputs": [
    {
     "name": "stdout",
     "output_type": "stream",
     "text": [
      "你每天的預算為：235.2941176470588\n"
     ]
    }
   ],
   "source": [
    "money_per_day = my_money/remain_day\n",
    "if my_money<300:\n",
    "    print(f'你每天的預算為：{money_per_day}')\n",
    "    print(\"你可能活不過喔！\")\n",
    "else:\n",
    "    print(f'你每天的預算為：{money_per_day}')"
   ]
  },
  {
   "cell_type": "code",
   "execution_count": null,
   "id": "9fa39a0b-d91b-4913-a457-1b0280fea2c4",
   "metadata": {},
   "outputs": [],
   "source": []
  }
 ],
 "metadata": {
  "kernelspec": {
   "display_name": "Python 3 (ipykernel)",
   "language": "python",
   "name": "python3"
  },
  "language_info": {
   "codemirror_mode": {
    "name": "ipython",
    "version": 3
   },
   "file_extension": ".py",
   "mimetype": "text/x-python",
   "name": "python",
   "nbconvert_exporter": "python",
   "pygments_lexer": "ipython3",
   "version": "3.9.15"
  }
 },
 "nbformat": 4,
 "nbformat_minor": 5
}
